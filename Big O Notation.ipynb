{
 "cells": [
  {
   "cell_type": "code",
   "execution_count": 29,
   "id": "e1875b33",
   "metadata": {},
   "outputs": [
    {
     "name": "stdout",
     "output_type": "stream",
     "text": [
      "01-Jan-2022\n",
      "yes\n"
     ]
    }
   ],
   "source": [
    "import regex as re\n",
    "date =\"^(([0-9])|([0-2][0-9])|([3][0-1]))\\-(Jan|Feb|Mar|Apr|May|Jun|Jul|Aug|Sep|Oct|Nov|Dec)\\-\\d{4}$\"\n",
    "\n",
    "sample = \"01-Jan-2022\"\n",
    "sample2 = '10-Feb-2022'\n",
    "print(sample)\n",
    "if re.search(date,sample) and re.search(date,sample2):\n",
    "    print('yes')\n",
    "else:\n",
    "    print('no')\n",
    "    \n",
    "\n"
   ]
  },
  {
   "cell_type": "code",
   "execution_count": 8,
   "id": "a537349d",
   "metadata": {},
   "outputs": [],
   "source": [
    "from datetime import datetime"
   ]
  },
  {
   "cell_type": "code",
   "execution_count": 13,
   "id": "d7f4f08d",
   "metadata": {},
   "outputs": [
    {
     "name": "stdout",
     "output_type": "stream",
     "text": [
      "time data '12-01-2022' does not match format '%d-%b-%Y'\n"
     ]
    }
   ],
   "source": [
    "x = ['12-jan-2022']\n",
    "y = ['12-01-2022']\n",
    "try:\n",
    "    if datetime.strftime(x,'%Y-%m-%d'):\n",
    "        print('yes')\n",
    "except ValueError as ve:\n",
    "    print(ve)"
   ]
  },
  {
   "cell_type": "code",
   "execution_count": null,
   "id": "eed0b906",
   "metadata": {},
   "outputs": [],
   "source": [
    "12-jan-2022\n",
    "12-01-2022"
   ]
  }
 ],
 "metadata": {
  "kernelspec": {
   "display_name": "Python 3 (ipykernel)",
   "language": "python",
   "name": "python3"
  },
  "language_info": {
   "codemirror_mode": {
    "name": "ipython",
    "version": 3
   },
   "file_extension": ".py",
   "mimetype": "text/x-python",
   "name": "python",
   "nbconvert_exporter": "python",
   "pygments_lexer": "ipython3",
   "version": "3.9.12"
  }
 },
 "nbformat": 4,
 "nbformat_minor": 5
}
